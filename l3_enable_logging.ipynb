{
 "cells": [
  {
   "cell_type": "markdown",
   "metadata": {},
   "source": [
    "Lesson 3: Enable Logging"
   ]
  },
  {
   "cell_type": "code",
   "execution_count": 8,
   "metadata": {},
   "outputs": [],
   "source": [
    "import boto3\n",
    "import json\n",
    "import os\n",
    "\n",
    "bedrock = boto3.client('bedrock', region_name=\"us-west-2\")"
   ]
  },
  {
   "cell_type": "code",
   "execution_count": 9,
   "metadata": {},
   "outputs": [],
   "source": [
    "from helpers.CloudWatchHelper import CloudWatch_Helper\n",
    "cloudwatch = CloudWatch_Helper()"
   ]
  },
  {
   "cell_type": "code",
   "execution_count": 10,
   "metadata": {},
   "outputs": [],
   "source": [
    "log_group_name = '/my/amazon/bedrock/logs'"
   ]
  },
  {
   "cell_type": "code",
   "execution_count": 11,
   "metadata": {},
   "outputs": [
    {
     "name": "stdout",
     "output_type": "stream",
     "text": [
      "Log group '/my/amazon/bedrock/logs' already exists.\n"
     ]
    }
   ],
   "source": [
    "cloudwatch.create_log_group(log_group_name)"
   ]
  },
  {
   "cell_type": "code",
   "execution_count": 12,
   "metadata": {},
   "outputs": [],
   "source": [
    "loggingConfig = {\n",
    "    'cloudWatchConfig': {\n",
    "        'logGroupName': log_group_name,\n",
    "        'roleArn': os.environ['LOGGINGROLEARN'],\n",
    "        'largeDataDeliveryS3Config': {\n",
    "            'bucketName': os.environ['LOGGINGBUCKETNAME'],\n",
    "            'keyPrefix': 'amazon_bedrock_large_data_delivery',\n",
    "        }\n",
    "    },\n",
    "    's3Config': {\n",
    "        'bucketName': os.environ['LOGGINGBUCKETNAME'],\n",
    "        'keyPrefix': 'amazon_bedrock_logs',\n",
    "    },\n",
    "    'textDataDeliveryEnabled': True,\n",
    "}"
   ]
  },
  {
   "cell_type": "code",
   "execution_count": 13,
   "metadata": {},
   "outputs": [
    {
     "data": {
      "text/plain": [
       "{'ResponseMetadata': {'RequestId': 'e1b33d6e-56ad-4e6b-85a1-2d8b34331813',\n",
       "  'HTTPStatusCode': 200,\n",
       "  'HTTPHeaders': {'date': 'Thu, 15 Feb 2024 13:52:24 GMT',\n",
       "   'content-type': 'application/json',\n",
       "   'content-length': '2',\n",
       "   'connection': 'keep-alive',\n",
       "   'x-amzn-requestid': 'e1b33d6e-56ad-4e6b-85a1-2d8b34331813'},\n",
       "  'RetryAttempts': 0}}"
      ]
     },
     "execution_count": 13,
     "metadata": {},
     "output_type": "execute_result"
    }
   ],
   "source": [
    "bedrock.put_model_invocation_logging_configuration(loggingConfig=loggingConfig)"
   ]
  },
  {
   "cell_type": "code",
   "execution_count": 14,
   "metadata": {},
   "outputs": [
    {
     "data": {
      "text/plain": [
       "{'ResponseMetadata': {'RequestId': 'cf63ae00-2d7f-4c4d-93fb-ad655f93c8fb',\n",
       "  'HTTPStatusCode': 200,\n",
       "  'HTTPHeaders': {'date': 'Thu, 15 Feb 2024 13:52:50 GMT',\n",
       "   'content-type': 'application/json',\n",
       "   'content-length': '480',\n",
       "   'connection': 'keep-alive',\n",
       "   'x-amzn-requestid': 'cf63ae00-2d7f-4c4d-93fb-ad655f93c8fb'},\n",
       "  'RetryAttempts': 0},\n",
       " 'loggingConfig': {'cloudWatchConfig': {'logGroupName': '/my/amazon/bedrock/logs',\n",
       "   'roleArn': 'arn:aws:iam::484494363864:role/DLAITestingIAMRoleStack-MyIAMRole-QKDbeb7FXvMv',\n",
       "   'largeDataDeliveryS3Config': {'bucketName': 'dlai-bucket-logging-owa002',\n",
       "    'keyPrefix': 'amazon_bedrock_large_data_delivery'}},\n",
       "  's3Config': {'bucketName': 'dlai-bucket-logging-owa002',\n",
       "   'keyPrefix': 'amazon_bedrock_logs'},\n",
       "  'textDataDeliveryEnabled': True,\n",
       "  'imageDataDeliveryEnabled': True,\n",
       "  'embeddingDataDeliveryEnabled': True}}"
      ]
     },
     "execution_count": 14,
     "metadata": {},
     "output_type": "execute_result"
    }
   ],
   "source": [
    "bedrock.get_model_invocation_logging_configuration()"
   ]
  },
  {
   "cell_type": "code",
   "execution_count": 15,
   "metadata": {},
   "outputs": [],
   "source": [
    "bedrock_runtime = boto3.client('bedrock-runtime', region_name=\"us-west-2\")"
   ]
  },
  {
   "cell_type": "code",
   "execution_count": 16,
   "metadata": {},
   "outputs": [
    {
     "name": "stdout",
     "output_type": "stream",
     "text": [
      "\n",
      "Foobar is a fictional planet in the Star Wars universe. It is the primary setting of the Star Wars: The Phantom Menace novel and film. The planet is a gas giant with a thick atmosphere and a surface covered in oceans and deserts. The planet is home to a variety of sentient species, including the Trade Federation, the Gungans, and the Naboo.\n",
      "\n",
      "One of the most notable features of Foobar is its trade network. The planet is a major hub for trade in the Outer Rim, with a wide variety of goods and services available for purchase. The Trade Federation, a powerful conglomerate of corporations, controls most of the planet's trade, and its members are known for their strict adherence to trade regulations.\n",
      "\n",
      "Another important feature of Foobar is the Gungan race. The Gungan are a species of aquatic humanoids with a unique culture and language. They are known for their bravery and their advanced technology, particularly in the field of underwater exploration. The Gungans are allies of the Naboo, and their homeworld of Nal Hutta is located on the planet's surface.\n",
      "\n",
      "Despite its many advantages, Foobar is also a dangerous planet. The Trade Federation is known for its aggressive expansionism and its willingness to use force to protect its interests. The planet is also home to a variety of dangerous creatures, including the Sarlacc, a giant sandworm-like creature that feeds on organic matter.\n",
      "\n",
      "In conclusion, Foobar is a fictional planet that plays a significant role in the Star Wars universe. Its trade network, Gungan culture, and dangerous environment make it a fascinating and complex world. While it may be a fictional planet, its impact on the Star Wars story is undeniable, and it continues to inspire fans and filmmakers alike.\n"
     ]
    }
   ],
   "source": [
    "prompt = \"Write an article about the fictional planet Foobar.\"\n",
    "\n",
    "kwargs = {\n",
    "    \"modelId\": \"amazon.titan-text-express-v1\",\n",
    "    \"contentType\": \"application/json\",\n",
    "    \"accept\": \"*/*\",\n",
    "    \"body\": json.dumps(\n",
    "        {\n",
    "            \"inputText\": prompt,\n",
    "            \"textGenerationConfig\": {\n",
    "                \"maxTokenCount\": 512,\n",
    "                \"temperature\": 0.7,\n",
    "                \"topP\": 0.9\n",
    "            }\n",
    "        }\n",
    "    )\n",
    "}\n",
    "\n",
    "response = bedrock_runtime.invoke_model(**kwargs)\n",
    "response_body = json.loads(response.get('body').read())\n",
    "\n",
    "generation = response_body['results'][0]['outputText']\n",
    "\n",
    "print(generation)"
   ]
  },
  {
   "cell_type": "code",
   "execution_count": 17,
   "metadata": {},
   "outputs": [
    {
     "name": "stdout",
     "output_type": "stream",
     "text": [
      "Permissions are correctly set for Amazon Bedrock logs.\n",
      "-------------------------\n",
      "\n",
      "{\n",
      "    \"schemaType\": \"ModelInvocationLog\",\n",
      "    \"schemaVersion\": \"1.0\",\n",
      "    \"timestamp\": \"2024-02-15T13:53:10Z\",\n",
      "    \"accountId\": \"484494363864\",\n",
      "    \"identity\": {\n",
      "        \"arn\": \"arn:aws:iam::484494363864:user/bedrock\"\n",
      "    },\n",
      "    \"region\": \"us-west-2\",\n",
      "    \"requestId\": \"26076f0f-b967-4c53-8725-27f42c553a23\",\n",
      "    \"operation\": \"InvokeModel\",\n",
      "    \"modelId\": \"amazon.titan-text-express-v1\",\n",
      "    \"input\": {\n",
      "        \"inputContentType\": \"application/json\",\n",
      "        \"inputBodyJson\": {\n",
      "            \"inputText\": \"Write an article about the fictional planet Foobar.\",\n",
      "            \"textGenerationConfig\": {\n",
      "                \"maxTokenCount\": 512,\n",
      "                \"temperature\": 0.7,\n",
      "                \"topP\": 0.9\n",
      "            }\n",
      "        },\n",
      "        \"inputTokenCount\": 10\n",
      "    },\n",
      "    \"output\": {\n",
      "        \"outputContentType\": \"application/json\",\n",
      "        \"outputBodyJson\": {\n",
      "            \"inputTextTokenCount\": 10,\n",
      "            \"results\": [\n",
      "                {\n",
      "                    \"tokenCount\": 364,\n",
      "                    \"outputText\": \"\\nFoobar is a fictional planet in the Star Wars universe. It is the primary setting of the Star Wars: The Phantom Menace novel and film. The planet is a gas giant with a thick atmosphere and a surface covered in oceans and deserts. The planet is home to a variety of sentient species, including the Trade Federation, the Gungans, and the Naboo.\\n\\nOne of the most notable features of Foobar is its trade network. The planet is a major hub for trade in the Outer Rim, with a wide variety of goods and services available for purchase. The Trade Federation, a powerful conglomerate of corporations, controls most of the planet's trade, and its members are known for their strict adherence to trade regulations.\\n\\nAnother important feature of Foobar is the Gungan race. The Gungan are a species of aquatic humanoids with a unique culture and language. They are known for their bravery and their advanced technology, particularly in the field of underwater exploration. The Gungans are allies of the Naboo, and their homeworld of Nal Hutta is located on the planet's surface.\\n\\nDespite its many advantages, Foobar is also a dangerous planet. The Trade Federation is known for its aggressive expansionism and its willingness to use force to protect its interests. The planet is also home to a variety of dangerous creatures, including the Sarlacc, a giant sandworm-like creature that feeds on organic matter.\\n\\nIn conclusion, Foobar is a fictional planet that plays a significant role in the Star Wars universe. Its trade network, Gungan culture, and dangerous environment make it a fascinating and complex world. While it may be a fictional planet, its impact on the Star Wars story is undeniable, and it continues to inspire fans and filmmakers alike.\",\n",
      "                    \"completionReason\": \"FINISH\"\n",
      "                }\n",
      "            ]\n",
      "        },\n",
      "        \"outputTokenCount\": 364\n",
      "    }\n",
      "}\n",
      "-------------------------\n",
      "\n"
     ]
    }
   ],
   "source": [
    "cloudwatch.print_recent_logs(log_group_name)"
   ]
  }
 ],
 "metadata": {
  "kernelspec": {
   "display_name": "myenv",
   "language": "python",
   "name": "python3"
  },
  "language_info": {
   "codemirror_mode": {
    "name": "ipython",
    "version": 3
   },
   "file_extension": ".py",
   "mimetype": "text/x-python",
   "name": "python",
   "nbconvert_exporter": "python",
   "pygments_lexer": "ipython3",
   "version": "3.11.4"
  }
 },
 "nbformat": 4,
 "nbformat_minor": 2
}
